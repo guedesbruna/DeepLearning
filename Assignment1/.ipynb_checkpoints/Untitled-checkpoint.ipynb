{
 "cells": [
  {
   "cell_type": "code",
   "execution_count": 11,
   "metadata": {},
   "outputs": [],
   "source": [
    "import math "
   ]
  },
  {
   "cell_type": "code",
   "execution_count": 58,
   "metadata": {},
   "outputs": [
    {
     "name": "stdout",
     "output_type": "stream",
     "text": [
      "[0.9999546021312976, 0.9999546021312976, 0.9999546021312976]\n"
     ]
    }
   ],
   "source": [
    "def initialize():\n",
    "    x = [1., -1.]\n",
    "    w = [[1.,1.,1.], [-1.,-1.,-1.]]\n",
    "    b = [0.,0.,0.]\n",
    "    k = [0.,0.,0.]\n",
    "    h = [0.,0.,0.]\n",
    "    v = [[1.,1.],[-1.,-1.],[-1.,-1.]]\n",
    "    c = [0., 0.]\n",
    "    t = [1., 0.]\n",
    "    s = [0., 0.]\n",
    "    return x,w,b,k,h,v,c,t,s\n",
    "\n",
    "def forward_pass(initial):\n",
    "    #Forward pass:\n",
    "    for lin in range(3): # k nodes len(k)\n",
    "        for i in range(2): #input nodes\n",
    "            k[lin] += w[i][lin] * x[i]\n",
    "        k[lin] += b[lin]\n",
    "\n",
    "    for hid in range(3):\n",
    "        h[hid] = 1. / (1. + math.exp(-k[hid])) #h[hid] = sigmoid(k[hid])\n",
    "    print(h)\n",
    "\n",
    "    for soft in range(2):\n",
    "        for hi in range(3):\n",
    "            s[soft] += v[hi][soft] * h[hi] #hidden * weights\n",
    "        s[soft] += c[soft] #second bias\n",
    "\n",
    "    ####CALCULAR SOFTMAX\n",
    "        \n",
    "    loss = (s[soft] - t[soft])**2 ### usar cross-entropy e nao mse\n",
    "\n",
    "forward_pass(initialize())"
   ]
  }
 ],
 "metadata": {
  "kernelspec": {
   "display_name": "Python 3",
   "language": "python",
   "name": "python3"
  },
  "language_info": {
   "codemirror_mode": {
    "name": "ipython",
    "version": 3
   },
   "file_extension": ".py",
   "mimetype": "text/x-python",
   "name": "python",
   "nbconvert_exporter": "python",
   "pygments_lexer": "ipython3",
   "version": "3.8.3"
  }
 },
 "nbformat": 4,
 "nbformat_minor": 4
}
